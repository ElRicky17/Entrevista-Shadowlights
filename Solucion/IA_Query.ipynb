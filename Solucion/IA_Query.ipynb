{
 "cells": [
  {
   "cell_type": "code",
   "execution_count": 1,
   "id": "3ac13a9a",
   "metadata": {},
   "outputs": [],
   "source": [
    "import duckdb\n",
    "import pandas as pd\n",
    "from vanna.remote import VannaDefault"
   ]
  },
  {
   "cell_type": "code",
   "execution_count": 2,
   "id": "6483a42c",
   "metadata": {},
   "outputs": [
    {
     "name": "stdout",
     "output_type": "stream",
     "text": [
      "        date platform account      campaign country   device    spend  clicks  \\\n",
      "0 2025-01-01     Meta   AcctA   Prospecting      MX  Desktop  1115.94     360   \n",
      "1 2025-01-01   Google   AcctA  Brand_Search      CA   Mobile   789.43     566   \n",
      "2 2025-01-01   Google   AcctA   Prospecting      BR  Desktop   381.40     133   \n",
      "3 2025-01-01   Google   AcctC   Prospecting      US  Desktop  1268.34     891   \n",
      "4 2025-01-01   Google   AcctA  Brand_Search      BR  Desktop  1229.70     628   \n",
      "\n",
      "   impressions  conversions                  load_date source_file_name  \n",
      "0        15840           29 2025-09-23 01:24:25.791371         File.csv  \n",
      "1        22640           28 2025-09-23 01:24:25.791371         File.csv  \n",
      "2        10241           12 2025-09-23 01:24:25.791371         File.csv  \n",
      "3        49005           36 2025-09-23 01:24:25.791371         File.csv  \n",
      "4        21352           31 2025-09-23 01:24:25.791371         File.csv  \n"
     ]
    }
   ],
   "source": [
    "con = duckdb.connect(\"ads_warehouse.duckdb\")\n",
    "\n",
    "print(con.execute(\"SELECT * FROM ads_spend LIMIT 5\").fetchdf())"
   ]
  },
  {
   "cell_type": "code",
   "execution_count": 3,
   "id": "c15faba7",
   "metadata": {},
   "outputs": [],
   "source": [
    "from vanna.remote import VannaDefault\n",
    "\n",
    "api_key = \"ed4da24998bc4aab9cd997dff5676521\"\n",
    "model_name = \"model_ads_spend\"\n",
    "\n",
    "vn = VannaDefault(model=model_name, api_key=api_key)\n"
   ]
  },
  {
   "cell_type": "code",
   "execution_count": 4,
   "id": "bf80938b",
   "metadata": {},
   "outputs": [
    {
     "name": "stdout",
     "output_type": "stream",
     "text": [
      "Adding ddl: \n",
      "CREATE TABLE ads_spend (\n",
      "    date DATE,\n",
      "    platform TEXT,\n",
      "    account TEXT,\n",
      "    campaign TEXT,\n",
      "    country TEXT,\n",
      "    device TEXT,\n",
      "    spend DOUBLE,\n",
      "    clicks INTEGER,\n",
      "    impressions INTEGER,\n",
      "    conversions INTEGER\n",
      ");\n",
      "\n"
     ]
    },
    {
     "data": {
      "text/plain": [
       "'18225206-ddl'"
      ]
     },
     "execution_count": 4,
     "metadata": {},
     "output_type": "execute_result"
    }
   ],
   "source": [
    "ddl = \"\"\"\n",
    "CREATE TABLE ads_spend (\n",
    "    date DATE,\n",
    "    platform TEXT,\n",
    "    account TEXT,\n",
    "    campaign TEXT,\n",
    "    country TEXT,\n",
    "    device TEXT,\n",
    "    spend DOUBLE,\n",
    "    clicks INTEGER,\n",
    "    impressions INTEGER,\n",
    "    conversions INTEGER\n",
    ");\n",
    "\"\"\"\n",
    "vn.train(ddl=ddl)\n"
   ]
  },
  {
   "cell_type": "code",
   "execution_count": 5,
   "id": "3f9426a1",
   "metadata": {},
   "outputs": [
    {
     "name": "stdout",
     "output_type": "stream",
     "text": [
      "Adding documentation....\n"
     ]
    },
    {
     "data": {
      "text/plain": [
       "'4a2432de7e78a719ca1926aff0152433-sql'"
      ]
     },
     "execution_count": 5,
     "metadata": {},
     "output_type": "execute_result"
    }
   ],
   "source": [
    "vn.train(documentation=\"CAC = spend / conversions. ROAS = (conversions * 100) / spend. Revenue = conversions * 100.\")\n",
    "\n",
    "\n",
    "vn.train(\n",
    "    question=\"Obtener CAC promedio de los últimos 30 días.\",\n",
    "    sql=\"SELECT SUM(spend)/SUM(conversions) AS CAC FROM ads_spend WHERE date BETWEEN DATE '2025-06-01' AND DATE '2025-06-30'\"\n",
    ")\n",
    "\n",
    "vn.train(\n",
    "    question=\"Comparar ROAS últimos 30 días vs 30 días anteriores.\",\n",
    "    sql=\"\"\"\n",
    "WITH revenue AS (\n",
    "  SELECT \n",
    "    CASE \n",
    "      WHEN date BETWEEN DATE '2025-06-01' AND DATE '2025-06-30' THEN 'last_30'\n",
    "      WHEN date BETWEEN DATE '2025-05-02' AND DATE '2025-05-31' THEN 'prev_30'\n",
    "    END AS period,\n",
    "    SUM(conversions*100) AS revenue,\n",
    "    SUM(spend) AS spend\n",
    "  FROM ads_spend\n",
    "  WHERE date BETWEEN DATE '2025-05-02' AND DATE '2025-06-30'\n",
    "  GROUP BY period\n",
    ")\n",
    "SELECT period, revenue/spend AS roas FROM revenue;\n",
    "\"\"\"\n",
    ")\n"
   ]
  },
  {
   "cell_type": "code",
   "execution_count": 6,
   "id": "f475140e",
   "metadata": {},
   "outputs": [
    {
     "name": "stdout",
     "output_type": "stream",
     "text": [
      "SQL Prompt: [{'role': 'system', 'content': \"You are a SQL expert. Please help to generate a SQL query to answer the question. Your response should ONLY be based on the given context and follow the response guidelines and format instructions. \\n===Tables \\n\\nCREATE TABLE ads_spend (\\n    date DATE,\\n    platform TEXT,\\n    account TEXT,\\n    campaign TEXT,\\n    country TEXT,\\n    device TEXT,\\n    spend DOUBLE,\\n    clicks INTEGER,\\n    impressions INTEGER,\\n    conversions INTEGER\\n);\\n\\n\\n\\n===Additional Context \\n\\nCAC = spend / conversions. ROAS = (conversions * 100) / spend. Revenue = conversions * 100.\\n\\n===Response Guidelines \\n1. If the provided context is sufficient, please generate a valid SQL query without any explanations for the question. \\n2. If the provided context is almost sufficient but requires knowledge of a specific string in a particular column, please generate an intermediate SQL query to find the distinct strings in that column. Prepend the query with a comment saying intermediate_sql \\n3. If the provided context is insufficient, please explain why it can't be generated. \\n4. Please use the most relevant table(s). \\n5. If the question has been asked and answered before, please repeat the answer exactly as it was given before. \\n6. Ensure that the output SQL is SQL-compliant and executable, and free of syntax errors. \\n\"}, {'role': 'user', 'content': 'Comparar ROAS últimos 30 días vs 30 días anteriores.'}, {'role': 'assistant', 'content': \"\\nWITH revenue AS (\\n  SELECT \\n    CASE \\n      WHEN date BETWEEN DATE '2025-06-01' AND DATE '2025-06-30' THEN 'last_30'\\n      WHEN date BETWEEN DATE '2025-05-02' AND DATE '2025-05-31' THEN 'prev_30'\\n    END AS period,\\n    SUM(conversions*100) AS revenue,\\n    SUM(spend) AS spend\\n  FROM ads_spend\\n  WHERE date BETWEEN DATE '2025-05-02' AND DATE '2025-06-30'\\n  GROUP BY period\\n)\\nSELECT period, revenue/spend AS roas FROM revenue;\\n\"}, {'role': 'user', 'content': 'Obtener CAC promedio de los últimos 30 días.'}, {'role': 'assistant', 'content': \"SELECT SUM(spend)/SUM(conversions) AS CAC FROM ads_spend WHERE date BETWEEN DATE '2025-06-01' AND DATE '2025-06-30'\"}, {'role': 'user', 'content': 'Compare CAC and ROAS for last 30 days vs prior 30 days.'}]\n",
      "LLM Response: WITH metrics AS (\n",
      "  SELECT \n",
      "    CASE \n",
      "      WHEN date BETWEEN DATE '2025-06-01' AND DATE '2025-06-30' THEN 'last_30'\n",
      "      WHEN date BETWEEN DATE '2025-05-02' AND DATE '2025-05-31' THEN 'prev_30'\n",
      "    END AS period,\n",
      "    SUM(spend) AS total_spend,\n",
      "    SUM(conversions) AS total_conversions,\n",
      "    (SUM(spend)/NULLIF(SUM(conversions), 0)) AS CAC,\n",
      "    (SUM(conversions)*100)/NULLIF(SUM(spend), 0) AS ROAS\n",
      "  FROM ads_spend\n",
      "  WHERE date BETWEEN DATE '2025-05-02' AND DATE '2025-06-30'\n",
      "  GROUP BY period\n",
      ")\n",
      "SELECT period, CAC, ROAS FROM metrics;\n",
      "Extracted SQL: WITH metrics AS (\n",
      "  SELECT \n",
      "    CASE \n",
      "      WHEN date BETWEEN DATE '2025-06-01' AND DATE '2025-06-30' THEN 'last_30'\n",
      "      WHEN date BETWEEN DATE '2025-05-02' AND DATE '2025-05-31' THEN 'prev_30'\n",
      "    END AS period,\n",
      "    SUM(spend) AS total_spend,\n",
      "    SUM(conversions) AS total_conversions,\n",
      "    (SUM(spend)/NULLIF(SUM(conversions), 0)) AS CAC,\n",
      "    (SUM(conversions)*100)/NULLIF(SUM(spend), 0) AS ROAS\n",
      "  FROM ads_spend\n",
      "  WHERE date BETWEEN DATE '2025-05-02' AND DATE '2025-06-30'\n",
      "  GROUP BY period\n",
      ")\n",
      "SELECT period, CAC, ROAS FROM metrics;\n",
      "SQL generado por Vanna:\n",
      "WITH metrics AS (\n",
      "  SELECT \n",
      "    CASE \n",
      "      WHEN date BETWEEN DATE '2025-06-01' AND DATE '2025-06-30' THEN 'last_30'\n",
      "      WHEN date BETWEEN DATE '2025-05-02' AND DATE '2025-05-31' THEN 'prev_30'\n",
      "    END AS period,\n",
      "    SUM(spend) AS total_spend,\n",
      "    SUM(conversions) AS total_conversions,\n",
      "    (SUM(spend)/NULLIF(SUM(conversions), 0)) AS CAC,\n",
      "    (SUM(conversions)*100)/NULLIF(SUM(spend), 0) AS ROAS\n",
      "  FROM ads_spend\n",
      "  WHERE date BETWEEN DATE '2025-05-02' AND DATE '2025-06-30'\n",
      "  GROUP BY period\n",
      ")\n",
      "SELECT period, CAC, ROAS FROM metrics;\n"
     ]
    }
   ],
   "source": [
    "question = \"Compare CAC and ROAS for last 30 days vs prior 30 days.\"\n",
    "sql_generated = vn.generate_sql(question)\n",
    "print(\"SQL generado por Vanna:\")\n",
    "print(sql_generated)\n"
   ]
  },
  {
   "cell_type": "code",
   "execution_count": 7,
   "id": "4c66e76f",
   "metadata": {},
   "outputs": [
    {
     "name": "stdout",
     "output_type": "stream",
     "text": [
      "Resultado de la consulta:\n",
      "    period        CAC      ROAS\n",
      "0  prev_30  32.271528  3.098707\n",
      "1  last_30  29.809261  3.354662\n"
     ]
    }
   ],
   "source": [
    "result_df = con.execute(sql_generated).fetchdf()\n",
    "print(\"Resultado de la consulta:\")\n",
    "print(result_df)\n"
   ]
  }
 ],
 "metadata": {
  "kernelspec": {
   "display_name": "venv (3.13.6)",
   "language": "python",
   "name": "python3"
  },
  "language_info": {
   "codemirror_mode": {
    "name": "ipython",
    "version": 3
   },
   "file_extension": ".py",
   "mimetype": "text/x-python",
   "name": "python",
   "nbconvert_exporter": "python",
   "pygments_lexer": "ipython3",
   "version": "3.13.6"
  }
 },
 "nbformat": 4,
 "nbformat_minor": 5
}
